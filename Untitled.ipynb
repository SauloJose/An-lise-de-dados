# Prática de Queda Livre

<h4> Instituto Federal de Alagoas (IFAL) - Campus Palmeira dos Índios
<h4>  Aluno: Saulo José Almeida Silva / Curso: Bacharelado em Engenharia Elétrica
    
 
Análise dos dados colhidos na prática

import pandas as pd
import matplotlib.pyplot as plt

#gerando databasex
disX=[]
for i in range(0,330,30):
    disX.append(i)
    
#gerando lista com database (a PRIMEIRA É A DATA BASE DO MEU EXPERIMENTO, A SEGUNDA É A DO PROFESSOR.)
tempX=[0.0,0.07,0.10,0.13,0.15,0.17,0.19,0.20,0.22,0.23,0.24]
#tempX=[0.0,0.059,0.091,0.115,0.136,0.154,0.171,0.186,0.200,0.214,0.226]

#gerando bibliteca com esses valores.
data =[]

for i in range(0,11):
    data.append([disX[i],tempX[i]])


#gerando database
df=pd.DataFrame(data,columns=['distancia(mm)','tempo(s)'])
print("Tabela gerada:")

display(df)



# gráfico S x T:


plt.plot(tempX,disX,linestyle='-',marker='o',color='blue')

#Colocando informações e dimensionando.
plt.title("Gráfico S x T")
plt.grid(True)
plt.xlabel("Tempo (s)")
plt.ylabel("Distância percorrida  (mm)")
plt.show()

Traçando 3 retas tangentes nesse gráfico, podemos observar como se comporta os valores

# Gráfico de S x T²

#Colocando gráfico de S em função de T^2
tempX2=[]
for i in tempX:
    i2=i*i
    tempX2.append(float(i2))
    
plt.plot(tempX2,disX,linestyle='-',marker='o',color='blue')

#Colocando informações e dimensionando.
plt.title("Gráfico S x T²")
plt.grid(True)
plt.xlabel("Tempo (s²)")
plt.ylabel("Distância percorrida  (mm)")
plt.show()

Esse gráfico se aproxima de uma reta, pois, será o gráfico da velocidade em função do tempo, que cresce constantemente com razão igual a acelereção da gravidade.

Posso calcular a aceleração da gravidade calculando a média dessas variações, visto que há pequenas oscilações vindas do sensor.

### Gráfico esperado de S x T²

#Colocando gráfico de S em função de T^2
tempX2=[]
for i in tempX:
    i2=i*i
    tempX2.append(float(i2))
    
plt.plot(tempX2,disX,linestyle='-',marker='o',color='blue',label='Dados Encontrados')

Xx=np.arange(0,0.0576,0.005)
YxX=[]
for i in Xx:
    YxX.append(4.903325*1000*i)

plt.plot(Xx,YxX,color='r',label='Valores Esperados')

#Colocando informações e dimensionando.
plt.title("Gráfico S x T²")
plt.grid(True)
plt.xlabel("Tempo (s²)")
plt.ylabel("Distância percorrida  (mm)")
plt.legend()
plt.show()

o valor da função de valores esperados são utilizando como base o valor real da aceleração da gravidade

$f_{esperado}(t)=\frac{9.80665}{2}.t^{2}$

### Calculo da aceleração da gravidade 

Calcularei a aceleração média

#lista de acelerações dos intervalos
import numpy as np
acl=[]
j=0
for i in range(0,10):
    aclpt=(disX[i+1]-disX[i])/(tempX2[i+1]-tempX2[i])
    acl.append(aclpt/1000)
    j=j+1

md=np.mean(acl)

#Aceleração é duas vezes a média.
aclt=2*md

s='''
Aceleração: {:.04f} m/s²'''.format(aclt)

print(s)

### Gráfico encontrado em comparação do gráfico dos dados

Abaixo, temos o plot do gráfico principal em comparação com os dados.

import numpy as np

#Gerando arranjo.
X=np.arange(0,0.24,0.005)

#Valores da função esperada.
Y=[]
Y2=[]

for i in X:
    Y.append(md*1000*i*i)
    Y2.append(4.903325*1000*i*i)
    
#Plotando informações
plt.plot(tempX,disX,color='r',label='Dados encontrados')
plt.plot(X,Y,color='b',label='Valores da Função')
plt.plot(X,Y2,color='g',label='Valores esperados')


#Colocando informações e dimensionando.
plt.title("Gráfico S x T")
plt.grid(True)
plt.xlabel("Tempo (s)")
plt.ylabel("Distância percorrida  (mm)")
plt.legend()
plt.show()

## Aplicação de métodos mínimos quadrados para graficos S x T e S x T² com dados colhidos


Abaixo os gráficos que exemplificam os dados colhidos, através do método de mínimos quadrados.


from scipy.stats import linregress

a2,b2,r2,p_value,std_err=linregress(tempX2,disX)

R_squared2=r2**2
print("R² é:",round(R_squared2,2))

yest=[]
for i in tempX2:
    yest.append(a2*i+b2)
    
#imprimindo valores
plt.figure()
plt.plot(tempX2,yest,color='r',label='Regressão linear')
plt.plot(tempX2,disX,color='b',label='Valores encontrados')


#Imprimindo valores da regressão linear.
r='''
Regressão linear em mm:
R(t)={:.03f}t+({:.03f})
'''.format(a2,b2)

print(r)

#Dados auxiliares
plt.title("Gráfico S x T²")
plt.grid(True)
plt.xlabel("Tempo (s)")
plt.ylabel("Distância percorrida  (mm)")
plt.legend()
plt.show()


Valor da gravidade encontrado pela regressão linear, lembrando que está em mm, posso passar para metros dividindo por 1000:


$$ 
\frac{g_{reg}}{2}= a_2 = \frac{R(t^{2})-R(0)}{t^{2}}=\frac{R(0.0576)-R(0)}{0.0576} = 5027.682 \frac{mm}{s^{2}} 
$$

$$ g_{reg} = 10,055 \frac{m}{s^{2}} $$




### Relação entre as gravidades aparentes da linear e a calculada em relação à real
#### Valores medidos

* Pela regressão:

$$
g_{reg} =10,055 m/s^{2}
$$

* Pela função média:

$$
g_{med}=10,9755 m/s^{2}
$$

* Valor real (aproximado em 4 casas):

$$
g_{real} = 9,8067 m/s^{2}
$$

#### Cálculo de proporção

O "acerto" será calculado como a razão do valor encontrado pelo valor real.

* Pela regressão:

$$
Areg=1,025 
$$

* Pela função média:

$$
AregM=1,119
$$

# Gráfico V x T com regressão linear.

Abaixo o código

#Calculando velocidades médias
vmeds=[0.0]
dmed=0.0

#Calculando velocidades médias e adicionando em uma lista.
for i in range(0,10):
    dmed=(disX[i+1]-disX[i])/((tempX[i+1]-tempX[i]))
    vmeds.append(dmed)


#Gerando uma Regressão linear 
a3,b3,r3,p_v,s_err=linregress(tempX,vmeds)

R_squared3=r3**2

print("R² é:",round(R_squared3,2))

#Gerando velocidade esperada da regressão linear
vesp=[]
for i in tempX:
    vesp.append(a3*i+b3)

print("Coeficiente angular da regressão linear: {:5.3f} mm/s".format(a3))
print("Coeficiente linear da regressão linear: {:5.3f} mm".format(b3))

#Calculando a variação média das velocidades médias.
VmESP=[0.0]
Vm=0.0

#Calculando a soma das velocidades médias.
for i in range(0,10):
    Vm=(vmeds[i+1]-vmeds[i])/(tempX[i+1]-tempX[i])
    VmESP.append(Vm)
#print(VmESP)
#Calculando a média dessas velocidades.

vmd = (np.sum(VmESP))/(11)

vmdREF=vmd/2000
       
print("Aceleração média: {:.03f} m/s²".format(vmdREF))
#Gerando dataBase para essa fução nova.
Vmesp=[]
for i in tempX:
    Vmesp.append(vmd*i)

    
#imprimindo valores
plt.figure()
plt.plot(tempX,vesp,color='b',label='Regressão Linear')
plt.plot(tempX,vmeds,color='r',label='Velocidades medias',linestyle=":",marker='o')
plt.plot(tempX,Vmesp,color='g',label='Média das velocidades')
plt.title("Gráfico V x T")
plt.grid(True)
plt.xlabel("Tempo (s)")
plt.ylabel("Velocidade média (mm/s)")
plt.legend()
plt.show()

A discrepância dos valores do gráfico são resultados dos dados analisados terem discrepâncias...
