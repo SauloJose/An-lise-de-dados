# Prática de Queda Livre

<h4> Instituto Federal de Alagoas (IFAL) - Campus Palmeira dos Índios
<h4>  Aluno: Saulo José Almeida Silva / Curso: Bacharelado em Engenharia Elétrica
    
 
Análise dos dados colhidos na prática

import pandas as pd
import matplotlib.pyplot as plt

#gerando databasex
disX=[]
for i in range(0,330,30):
    disX.append(i)
    
#gerando lista com database (a PRIMEIRA É A DATA BASE DO MEU EXPERIMENTO, A SEGUNDA É A DO PROFESSOR.)
tempX=[0.0,0.071,0.102,0.133,0.152 ,0.175,0.19,0.205,0.218,0.233,0.245]
#tempX=[0.0,0.059,0.091,0.115,0.136,0.154,0.171,0.186,0.200,0.214,0.226]

#gerando bibliteca com esses valores.
data =[]

for i in range(0,11):
    data.append([disX[i],tempX[i]])


#gerando database
df=pd.DataFrame(data,columns=['distancia(mm)','tempo(s)'])

display(df)



# gráfico S x T:


plt.plot(tempX,disX,linestyle='-',marker='o',color='blue')

#Colocando informações e dimensionando.
plt.title("Gráfico S x T")
plt.grid(True)
plt.xlabel("Tempo (s)")
plt.ylabel("Distância percorrida  (mm)")
plt.show()

Traçando 3 retas tangentes nesse gráfico, podemos observar como se comporta os valores.

# Gráfico de S x T²

#Colocando gráfico de S em função de T^2
tempX2=[]
for i in tempX:
    i2=i*i
    tempX2.append(float(i2))
    
print(tempX2)
plt.plot(tempX2,disX,linestyle='-',marker='o',color='blue')

#Colocando informações e dimensionando.
plt.title("Gráfico S x T²")
plt.grid(True)
plt.xlabel("Tempo (s²)")
plt.ylabel("Distância percorrida  (mm)")
plt.show()

Esse gráfico se aproxima de uma reta, pois, será o gráfico da velocidade em função do tempo, que cresce constantemente com razão igual a acelereção da gravidade.

Posso calcular a aceleração da gravidade calculando a média dessas variações, visto que há pequenas oscilações vindas do sensor.

### Gráfico esperado de S x T²

import numpy as np

#Colocando gráfico de S em função de T^2
tempX2=[]
for i in tempX:
    i2=i*i
    tempX2.append(float(i2))
    
plt.plot(tempX2,disX,linestyle='-',marker='o',color='blue',label='Dados Encontrados')

Xx=np.arange(0,0.065,0.005)
YxX=[]
for i in Xx:
    YxX.append(4.903325*1000*i)

plt.plot(Xx,YxX,color='r',label='Valores Esperados')

#Colocando informações e dimensionando.
plt.title("Gráfico S x T²")
plt.grid(True)
plt.xlabel("Tempo (s²)")
plt.ylabel("Distância percorrida  (mm)")
plt.legend()
plt.show()

o valor da função de valores esperados são utilizando como base o valor real da aceleração da gravidade

$f_{esperado}(t)=\frac{9.80665}{2}.t^{2}$

### Calculo da aceleração da gravidade 

Calcularei a aceleração média

#lista de acelerações dos intervalos
import numpy as np

acl=[]
for i in range(0,10):
    aclpt=(disX[i+1]-disX[i])/(tempX2[i+1]-tempX2[i])
    acl.append(aclpt/1000)

md=np.mean(acl)

#Printando as acelerações
print("aceleração calculada: {:.03f} m/s²".format(2*md))

#Aceleração é duas vezes a média.
aclt=2*md

s='''
Aceleração calculada de S x T²: {:.04f} m/s²
'''.format(aclt)

print(s)

### Gráfico encontrado em comparação do gráfico dos dados

Abaixo, temos o plot do gráfico principal em comparação com os dados.

import numpy as np

#Gerando arranjo.
X=np.arange(0,0.24,0.005)

#Valores da função esperada.
Y=[]
Y2=[]
#md=g/2

for i in X:
    Y.append(md*1000*i*i)
    Y2.append(4.903325*1000*i*i)
    
#Plotando informações
plt.plot(tempX,disX,color='r',label='Dados encontrados')
plt.plot(X,Y,color='b',label='Valores da Função')
plt.plot(X,Y2,color='g',label='Valores esperados')


#Colocando informações e dimensionando.
plt.title("Gráfico S x T")
plt.grid(True)
plt.xlabel("Tempo (s)")
plt.ylabel("Distância percorrida  (mm)")
plt.legend()
plt.show()

## Aplicação de métodos mínimos quadrados para graficos S x T e S x T² com dados colhidos


Abaixo os gráficos que exemplificam os dados colhidos, através do método de mínimos quadrados.


from scipy.stats import linregress

a2,b2,r2,p_value,std_err=linregress(tempX2,disX)

R_squared2=r2**2
print("R² é:",round(R_squared2,2))

yest=[]
for i in tempX2:
    yest.append(a2*i+b2)
    
#imprimindo valores
plt.figure()
plt.plot(tempX2,yest,color='r',label='Regressão linear')
plt.plot(tempX2,disX,color='b',label='Valores encontrados')

g=2*a2/1000

r1=g/9.8067
r2=aclt/9.8067
#Imprimindo valores da regressão linear.
r='''
Regressão linear em mm:
R(t)={:.03f}t+({:.03f})

Aceleração da gravidade (2a) por regressão: {:.03f} m/s²
Aceleração da gravidade por valores encontrados: {:4.05f} m/s²
Aceleração da gravidade real (4 casas decimais): 9.8067 m/s²

Ganhos entre os valores medidos:

regressão: {:.03f}
media de valores: {:.04f}

'''.format(a2,b2,g,aclt,r1,r2)

print(r)

#Dados auxiliares
plt.title("Gráfico S x T²")
plt.grid(True)
plt.xlabel("Tempo (s)")
plt.ylabel("Distância percorrida  (mm)")
plt.legend()
plt.show()


# Gráfico V x T com regressão linear.

Abaixo o código

import numpy as np
import statistics as st

#Calculando velocidades médias
vmeds=[0.0]
dmed=0.0

#Calculando velocidades médias e adicionando em uma lista.
for i in range(0,10):
    dmed=(disX[i+1]-disX[i])/((tempX[i+1]-tempX[i]))
    vmeds.append(dmed)


#Gerando uma Regressão linear 
a3,b3,r3,p_v,s_err=linregress(tempX,vmeds)

R_squared3=r3**2

print("R² é:",round(R_squared3,2))

#Gerando velocidade esperada da regressão linear
vesp=[]
for i in tempX:
    vesp.append(a3*i+b3)

print("Coeficiente angular da regressão linear: {:5.3f} mm/s²".format(a3))
print("Coeficiente linear da regressão linear: {:5.3f} mm".format(b3))

#Calculando a variação média das velocidades médias.
VmESP=[0.0]
Vm=0.0

#Calculando a soma das velocidades médias.
for i in range(0,10):
    Vm=(vmeds[i+1]-vmeds[i])/(tempX[i+1]-tempX[i])
    VmESP.append(Vm)
#Calculando a média das acelerações médias.
vmdMED = np.mean(VmESP)
print("Média: {:.03f} mm/s²".format(vmdMED))
#Calculando a mediana das acelerações médias.
vmd=np.percentile(VmESP,50)

print("Mediana: {:.03f} mm/s²".format(vmd))
vmdREF=vmd/1000

#Regressão linear
vmdREFreg=a3/1000

print("Aceleração média (Regressão): {:.03f} m/s²".format(vmdREFreg))
print("Aceleração média (Mediana das acelerações dos Valores colhidos): {:.03f} m/s²".format(vmdREF))

#Algo
tl=[0.00, 0.05, 0.08, 0.11,0.15]
tm=[]

for i in tl:
    m=10.171*i*1000
    tm.append(m)
  
print(tm)


#imprimindo valores
plt.figure()
plt.plot(tempX,vesp,color='b',label='Regressão Linear')
#plt.plot(tempX,vmeds,color='r',label='Velocidades medias',linestyle=" ",marker='o')
plt.plot(tl,tm,color='yellow',label='valores de f(x)', linestyle=" ",marker='o')
plt.title("Gráfico V x T")
plt.grid(True)
plt.xlabel("Tempo (s)")
plt.ylabel("Velocidade (mm/s)")
plt.legend()
plt.show()

A discrepância dos valores do gráfico são resultados dos dados analisados terem discrepâncias...

A função "Média das velocidades" foi encontrada utilizando, o coeficiênte angular m como a média das variações médias da velocidade (média das acelerações médias), e colocando o coeficiente linear igual a zero, já que o corpo sai do repouso.

$$
m_{media}=\frac{\sum_{i=0}^{N-1} \frac{Vm_{i+1}-V_{i}}{t_{i+1}-t_{i}}}{N}
$$

$$
f_{media}(t)=m_{media}.t
$$


Posso também usar a função utilizando a mediana dos dados tratados, sendo mais eficaz.

$$
f_{mediana}(t)=m_{mediana}.t
$$


A não concordância com o valor da regressão linear é devido à grande variação dos valores da velocidade média, devido a irregularidades os dados da velocidade, devido aos ultimos pontos, está totalmente fora dos limites..

# Prática de colisões inelásticas

import numpy as np
import statistics as st

#Base de dados da prática
disti1=[0.0,0.018,0.036,0.054,0.072,0.090,0.108,0.126,0.144,0.162,0.180]
tempi1=[0.0,0.117,0.196,0.272,0.348,0.424,0.499,0.574,0.649,0.723,0.867]


#Gerando uma Regressão linear 
ai1,bi1,ri1,p_vi2,s_erri1=linregress(tempi1,disti1)

R_squaredi1=ri1**2

print("R² é:",round(R_squaredi1,2))

#Gerando velocidade esperada da regressão linear
vespi1=[]
for i in tempi1:
    vespi1.append(ai1*i+bi1)

print("Coeficiente angular da regressão linear (Velocidade específica): {:5.3f} m/s".format(ai1))
print("Coeficiente linear da regressão linear: {:5.3f} m".format(bi1))

    
#imprimindo valores
plt.figure()
plt.plot(tempi1,vespi1,color='b',label='Regressão Linear')
plt.plot(tempi1,disti1,color='r',label='Distâncias',linestyle=":",marker='o')
plt.title("Gráfico S x T (Carro 1)")
plt.grid(True)
plt.xlabel("Tempo (s)")
plt.ylabel("Distância percorrida (m)")
plt.legend()
plt.show()

import numpy as np
import statistics as st

#Base de dados da prática
disti2=[0.0,0.018,0.036,0.054,0.072,0.090,0.108,0.126,0.144,0.162,0.180]
tempi2=[0.0,0.119,0.237,0.352,0.466,0.576,0.685,0.793,0.898,1.003,1.105]


#Gerando uma Regressão linear 
ai2,bi2,ri2,p_vi3,s_erri2=linregress(tempi2,disti2)

R_squaredi2=ri2**2

print("R² é:",round(R_squaredi2,2))

#Gerando velocidade esperada da regressão linear
vespi2=[]
for i in tempi2:
    vespi2.append(ai2*i+bi2)

print("Coeficiente angular da regressão linear (Velocidade específica): {:5.3f} m/s".format(ai2))
print("Coeficiente linear da regressão linear: {:5.3f} m".format(bi2))

    
#imprimindo valores
plt.figure()
plt.plot(tempi2,vespi2,color='b',label='Regressão Linear')
plt.plot(tempi2,disti2,color='r',label='Distâncias',linestyle=":",marker='o')
plt.title("Gráfico S x T (carro(1+2))")
plt.grid(True)
plt.xlabel("Tempo (s)")
plt.ylabel("Distância percorrida (m)")
plt.legend()
plt.show()

## Calculo da Energia Cinética, Quantidade de movimento

#Variáveis dessa situação.

#Quantidade de movimento do sistema ( inicial)

#Quantidade de movimento do sistema (Final)

#Quantidade de energia do sistema (inicial)

#Quantidade de energia do sistema (final)

#gráficos

# Prática de colisões perfeitamente elásticas 

import numpy as np
import statistics as st

#Base de dados da prática
dist=[0.0,0.018,0.036,0.054,0.072,0.090,0.108,0.126,0.144,0.162,0.180]
temp=[0.0,0.087,0.164,0.240,0.315,0.390,0.465,0.539,0.613,0.686,0.759]


#Gerando uma Regressão linear 
a4,b4,r4,p_v2,s_err1=linregress(temp,dist)

R_squared4=r4**2

print("R² é:",round(R_squared4,2))

#Gerando velocidade esperada da regressão linear
vesp1=[]
for i in temp:
    vesp1.append(a4*i+b4)

print("Coeficiente angular da regressão linear (Velocidade específica): {:5.3f} m/s".format(a4))
print("Coeficiente linear da regressão linear: {:5.3f} m".format(b4))

    
#imprimindo valores
plt.figure()
plt.plot(temp,vesp1,color='b',label='Regressão Linear')
plt.plot(temp,dist,color='r',label='Distâncias',linestyle=":",marker='o')
plt.title("Gráfico V x T (Carro 1)")
plt.grid(True)
plt.xlabel("Tempo (s)")
plt.ylabel("Distância percorrida (m)")
plt.legend()
plt.show()

#Carro 2.
import numpy as np
import statistics as st

#Base de dados da prática
dist2=[0.0,0.018,0.036,0.054,0.072,0.090,0.108,0.126,0.144,0.162,0.180]
temp2=[0.0,0.135,0.249,0.404,0.542,0.680,0.821,0.963,1.108,1.255,1.404]


#Gerando uma Regressão linear 
a5,b5,r5,p_v3,s_err2=linregress(temp2,dist2)

R_squared5=r5**2

print("R² é:",round(R_squared5,2))

#Gerando velocidade esperada da regressão linear
vesp2=[]
for i in temp2:
    vesp2.append(a5*i+b5)

print("Coeficiente angular da regressão linear (Velocidade específica): {:5.3f} m/s".format(a5))
print("Coeficiente linear da regressão linear: {:5.3f} m".format(b5))

    
#imprimindo valores
plt.figure()
plt.plot(temp2,vesp2,color='b',label='Regressão Linear')
plt.plot(temp2,dist2,color='r',label='Distâncias',linestyle=":",marker='o')
plt.title("Gráfico S x T (Carro 2)")
plt.grid(True)
plt.xlabel("Tempo (s)")
plt.ylabel("Distância percorrida (m)")
plt.legend()
plt.show()

## Calculo da Energia Cinética, Quantidade de movimento

#Variáveis dessa situação.

#Quantidade de movimento do sistema ( inicial)

#Quantidade de movimento do sistema (Final)

#Quantidade de energia do sistema (inicial)

#Quantidade de energia do sistema (final)

#gráficos
